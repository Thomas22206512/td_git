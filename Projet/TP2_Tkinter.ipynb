{
 "cells": [
  {
   "cell_type": "markdown",
   "metadata": {},
   "source": [
    "Commencer par importer 'tkinter' et les librairies nécessaires à l'aide des commandes suivantes :"
   ]
  },
  {
   "cell_type": "code",
   "execution_count": 39,
   "metadata": {},
   "outputs": [],
   "source": [
    "import tkinter as tk\n",
    "import PIL as pil\n",
    "from PIL import Image\n",
    "from PIL import ImageTk \n",
    "from tkinter import filedialog\n",
    "from tkinter import simpledialog"
   ]
  },
  {
   "attachments": {},
   "cell_type": "markdown",
   "metadata": {},
   "source": [
    "Vous pouvez consulter la documentation de tkinter https://docs.python.org/fr/3/library/tk.html et une documentation en français http://tkinter.fdex.eu/.\n",
    "Créer une fenêtre tkinter qui a pour titre \"J'apprends Tkinter\" et qui affiche le texte \"J'adore Python !\" dans la fenêtre"
   ]
  },
  {
   "cell_type": "code",
   "execution_count": 1,
   "metadata": {},
   "outputs": [],
   "source": [
    "from tkinter import *\n",
    "\n",
    "root = Tk()\n",
    "label = Label(root,text=\"J'adore Python\", width=500, height=500)\n",
    "label.pack()\n",
    "root.title(\"J'apprends Tkinter\")\n",
    "root.mainloop()"
   ]
  },
  {
   "cell_type": "markdown",
   "metadata": {},
   "source": [
    "Toujours dans la même fenêtre, ajouter maintenant un bouton permettant de quitter la fenêtre, il faudra pour cela \n",
    "créer une fonction callback `fermer_fenetre` qui appelle la méthode `destroy()`"
   ]
  },
  {
   "cell_type": "code",
   "execution_count": 2,
   "metadata": {},
   "outputs": [],
   "source": [
    "from tkinter import *\n",
    "\n",
    "def fermer_fenetre():\n",
    "    root.destroy()\n",
    "root = Tk()\n",
    "label = Label(root,text=\"J'adore Python\", width=100, height=100)\n",
    "button = Button(root, text=\"Fermer la fenêtre\", command=fermer_fenetre)\n",
    "button.grid(row=0, column=0)\n",
    "label.grid(row=1, column=0)\n",
    "root.title(\"J'apprends Tkinter\")\n",
    "root.mainloop()"
   ]
  },
  {
   "cell_type": "markdown",
   "metadata": {},
   "source": [
    "Maintenant nous allons modifier la disposition des différents éléments en utilisant une grille pour positionner les éléments dans la fenêtre. Ajouter un canevas rouge à droite du label et du bouton."
   ]
  },
  {
   "cell_type": "code",
   "execution_count": 8,
   "metadata": {},
   "outputs": [],
   "source": [
    "#Faire un canevas de taille 300x300 pour que ce soit lisible\n",
    "from tkinter import *\n",
    "\n",
    "def fermer_fenetre():\n",
    "    root.destroy()\n",
    "root = Tk()\n",
    "label = Label(root,text=\"J'adore Python\")\n",
    "button = Button(root, text=\"Fermer la fenêtre\", command=fermer_fenetre)\n",
    "canvas = Canvas(root, bg=\"red\", height=300, width=300)\n",
    "button.grid(row=0, column=0)\n",
    "label.grid(row=1, column=0)\n",
    "canvas.grid(row=0, column=1, rowspan=2)\n",
    "root.title(\"J'apprends Tkinter\")\n",
    "root.mainloop()"
   ]
  },
  {
   "cell_type": "markdown",
   "metadata": {},
   "source": [
    "Ajouter un canevas noir en dessous du canevas rouge précédent. Faire une fonction qui permet de compter le nombre de clics sur le carré rouge. Afficher cette valeur dans le label qui servait à afficher \"j'adore python\". Attention, le compteur du nombre de clics est appelé dans une fonction callback, il faut donc le récupérer en dehors de cette fonction en le déclarant comme variable globale. Utiliser la méthode `bind` pour récupérer le clic de souris."
   ]
  },
  {
   "cell_type": "code",
   "execution_count": 71,
   "metadata": {},
   "outputs": [],
   "source": [
    "from tkinter import *\n",
    "\n",
    "def fermer_fenetre():\n",
    "    root.destroy()\n",
    "\n",
    "res = 0\n",
    "def compteur(event):\n",
    "    global res\n",
    "    res += 1\n",
    "    label.config(text=res)\n",
    "root = Tk()\n",
    "label = Label(root,text=res)\n",
    "button = Button(root, text=\"Fermer la fenêtre\", command=fermer_fenetre)\n",
    "canvas_red = Canvas(root, bg=\"red\", height=300, width=300)\n",
    "canvas_black = Canvas(root, bg=\"#000000\", height=100, width=300)\n",
    "button.grid(row=0, column=0)\n",
    "label.grid(row=1, column=0)\n",
    "canvas_red.grid(row=0, column=1, rowspan=2)\n",
    "canvas_black.grid(row=2, column=1)\n",
    "canvas_red.bind('<Button>', compteur)\n",
    "root.title(\"J'apprends Tkinter\")\n",
    "root.mainloop()"
   ]
  },
  {
   "cell_type": "markdown",
   "metadata": {},
   "source": [
    "Créer une unique fonction qui renvoie la couleur du canevas sur lequel on a double-cliqué.\n",
    "Afficher la couleur à la place du compteur précédent."
   ]
  },
  {
   "cell_type": "code",
   "execution_count": 30,
   "metadata": {},
   "outputs": [],
   "source": [
    "from tkinter import *\n",
    "\n",
    "def fermer_fenetre():\n",
    "    root.destroy()\n",
    "\n",
    "def return_couleur(c):\n",
    "    label.config(text=c)\n",
    "root = Tk()\n",
    "label = Label(root,text=\"\")\n",
    "button = Button(root, text=\"Fermer la fenêtre\", command=fermer_fenetre)\n",
    "canvas_red = Canvas(root, bg=\"red\", height=300, width=300)\n",
    "canvas_black = Canvas(root, bg=\"#000000\", height=100, width=300)\n",
    "button.grid(row=0, column=0)\n",
    "label.grid(row=1, column=0)\n",
    "canvas_red.grid(row=0, column=1, rowspan=2)\n",
    "canvas_black.grid(row=2, column=1)\n",
    "canvas_red.bind('<Double-Button-1>', lambda event : return_couleur('rouge'))\n",
    "canvas_black.bind('<Double-Button-1>', lambda event: return_couleur('noir'))\n",
    "root.title(\"J'apprends Tkinter\")\n",
    "root.mainloop()"
   ]
  },
  {
   "cell_type": "markdown",
   "metadata": {},
   "source": [
    "REMARQUE : Attention à ne pas mettre deux `bind` différents qui se déclenchent \n",
    "sur une même action sinon seul le dernier sera réalisé.\n",
    "En effet, la variable `event` va être modifiée deux fois et seule sa dernière modification sera donc prise en compte."
   ]
  },
  {
   "cell_type": "markdown",
   "metadata": {},
   "source": [
    "Créer une nouvelle fenêtre qui permet de charger une image depuis un fichier en utilisant la fonction `charger(widg)`. \n",
    "Vous allez devoir passer un paramètre dans la fonction callback `charger`. On ne demande pas de comprendre le fonctionnement de la fonction `charger`."
   ]
  },
  {
   "cell_type": "code",
   "execution_count": 72,
   "metadata": {},
   "outputs": [],
   "source": [
    "create=True\n",
    "\n",
    "def charger(widg):\n",
    "    global create\n",
    "    global photo\n",
    "    global img\n",
    "    global canvas\n",
    "    filename= filedialog.askopenfile(mode='rb', title='Choose a file')\n",
    "    img = pil.Image.open(filename)\n",
    "    photo = ImageTk.PhotoImage(img)\n",
    "    print(photo)\n",
    "    if create:    \n",
    "        canvas = tk.Canvas(widg, width = img.size[0], height = img.size[1])\n",
    "        canvas.create_image(0,0,anchor = tk.NW, image=photo)\n",
    "        canvas.pack()\n",
    "        create=False\n",
    "        \n",
    "    else:\n",
    "        canvas.pack_forget()\n",
    "        canvas = tk.Canvas(widg, width = img.size[0], height = img.size[1])\n",
    "        canvas.create_image(0,0,anchor = tk.NW, image=photo)\n",
    "        canvas.pack()"
   ]
  },
  {
   "cell_type": "code",
   "execution_count": 73,
   "metadata": {},
   "outputs": [
    {
     "name": "stdout",
     "output_type": "stream",
     "text": [
      "pyimage2\n"
     ]
    }
   ],
   "source": [
    "widg = Tk()\n",
    "charger(widg)\n",
    "widg.mainloop()\n"
   ]
  },
  {
   "attachments": {},
   "cell_type": "markdown",
   "metadata": {},
   "source": [
    "Faire une fenêtre qui :\n",
    "- Permet d'écrire dans une zone de texte\n",
    "- contient un label d'affichage\n",
    "- contient deux boutons, respectivement \"Bouton1\" et \"Bouton2\" permettant d'afficher dans le label le numéro du bouton sur lequel on a cliqué\n",
    "- contient un dernier bouton qui permet d'afficher dans le label le texte tapé dans la zone de texte"
   ]
  },
  {
   "cell_type": "code",
   "execution_count": 68,
   "metadata": {},
   "outputs": [],
   "source": [
    "from tkinter import *\n",
    "def changer(t):\n",
    "    label.config(text=t)\n",
    "root = Tk()\n",
    "zone_text = Entry(root)\n",
    "label = Label(root, text=\"Il y a une zone de text en dessous\")\n",
    "Bouton_1 = Button(root,text=\"Bouton 1\")\n",
    "Bouton_2 = Button(root,text=\"Bouton 2\")\n",
    "Entrer = Button(root,text=\"Entrer\")\n",
    "Bouton_1.bind('<Button-1>', lambda  event: changer(\"Bouton 1\"))\n",
    "Bouton_2.bind('<Button-1>', lambda  event: changer(\"Bouton 2\"))\n",
    "Entrer.bind('<Button-1>', lambda  event: changer(zone_text.get()))\n",
    "label.grid(row=0, column=0, columnspan=3)\n",
    "zone_text.grid(row=1, column=0, columnspan=3)\n",
    "Bouton_1.grid(row=2, column=0)\n",
    "Bouton_2.grid(row=2, column=1)\n",
    "Entrer.grid(row=2, column=2)\n",
    "\n",
    "root.mainloop()\n"
   ]
  }
 ],
 "metadata": {
  "kernelspec": {
   "display_name": "l1-python",
   "language": "python",
   "name": "python3"
  },
  "language_info": {
   "codemirror_mode": {
    "name": "ipython",
    "version": 3
   },
   "file_extension": ".py",
   "mimetype": "text/x-python",
   "name": "python",
   "nbconvert_exporter": "python",
   "pygments_lexer": "ipython3",
   "version": "3.10.4"
  },
  "vscode": {
   "interpreter": {
    "hash": "166de07f23ab5089465675b5c8528c8f7ab050eb03daf965ac234474154ebfbb"
   }
  }
 },
 "nbformat": 4,
 "nbformat_minor": 4
}
